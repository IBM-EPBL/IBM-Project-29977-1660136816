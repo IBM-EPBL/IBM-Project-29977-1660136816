{
  "nbformat": 4,
  "nbformat_minor": 0,
  "metadata": {
    "colab": {
      "private_outputs": true,
      "provenance": [],
      "collapsed_sections": []
    },
    "kernelspec": {
      "name": "python3",
      "display_name": "Python 3"
    },
    "language_info": {
      "name": "python"
    }
  },
  "cells": [
    {
      "cell_type": "code",
      "execution_count": null,
      "metadata": {
        "id": "JbKnYej3iDaf"
      },
      "outputs": [],
      "source": [
        "import numpy as np\n",
        "import pandas as pd\n",
        "import matplotlib.pyplot as plt\n",
        "import seaborn as sns\n",
        "\n",
        "import warnings\n",
        "warnings.filterwarnings(\"ignore\")\n"
      ]
    },
    {
      "cell_type": "code",
      "source": [
        "df = pd.read_csv(\"abalone.csv\")"
      ],
      "metadata": {
        "id": "9BmPscvDiKKA"
      },
      "execution_count": null,
      "outputs": []
    },
    {
      "cell_type": "code",
      "source": [
        "sns.displot(df[\"Height\"])"
      ],
      "metadata": {
        "id": "vzE3nnPVia1e"
      },
      "execution_count": null,
      "outputs": []
    },
    {
      "cell_type": "code",
      "source": [
        "sns.displot(df[\"Height\"])"
      ],
      "metadata": {
        "id": "l2h0S_jmic3r"
      },
      "execution_count": null,
      "outputs": []
    },
    {
      "cell_type": "code",
      "source": [
        "sns.scatterplot(x=df.Sex,y=df.Rings)"
      ],
      "metadata": {
        "id": "BcIEJEAKifIL"
      },
      "execution_count": null,
      "outputs": []
    },
    {
      "cell_type": "code",
      "source": [
        "sns.lineplot(df[\"Shell weight\"],df[\"Shucked weight\"])"
      ],
      "metadata": {
        "id": "2tiFOW9sihLD"
      },
      "execution_count": null,
      "outputs": []
    },
    {
      "cell_type": "code",
      "source": [
        "sns.pairplot(df)"
      ],
      "metadata": {
        "id": "PUyarTqIijwz"
      },
      "execution_count": null,
      "outputs": []
    },
    {
      "cell_type": "code",
      "source": [
        "numerical_features = df.select_dtypes(include = [np.number]).columns\n",
        "categorical_features = df.select_dtypes(include = [np.object]).columns"
      ],
      "metadata": {
        "id": "ocGoaYo4iocq"
      },
      "execution_count": null,
      "outputs": []
    },
    {
      "cell_type": "code",
      "source": [
        "numerical_features"
      ],
      "metadata": {
        "id": "J25uOpNeiwl0"
      },
      "execution_count": null,
      "outputs": []
    },
    {
      "cell_type": "code",
      "source": [
        "plt.figure(figsize = (20,7))\n",
        "sns.heatmap(df[numerical_features].corr(),annot = True)"
      ],
      "metadata": {
        "id": "Y6cdYv24iyr8"
      },
      "execution_count": null,
      "outputs": []
    },
    {
      "cell_type": "code",
      "source": [
        "df.describe()"
      ],
      "metadata": {
        "id": "OyCUN-vIi1Ac"
      },
      "execution_count": null,
      "outputs": []
    },
    {
      "cell_type": "code",
      "source": [
        "df.isnull().sum()"
      ],
      "metadata": {
        "id": "U5irBPegi24c"
      },
      "execution_count": null,
      "outputs": []
    },
    {
      "cell_type": "code",
      "source": [
        "df"
      ],
      "metadata": {
        "id": "QSXdNKA0i4WE"
      },
      "execution_count": null,
      "outputs": []
    },
    {
      "cell_type": "code",
      "source": [
        "qnt=df.quantile(q=(0.25,0.75))"
      ],
      "metadata": {
        "id": "RiO8DNW2i5hc"
      },
      "execution_count": null,
      "outputs": []
    },
    {
      "cell_type": "code",
      "source": [
        "qnt"
      ],
      "metadata": {
        "id": "Z0HutqT8i-MU"
      },
      "execution_count": null,
      "outputs": []
    },
    {
      "cell_type": "code",
      "source": [
        "iqr=qnt.loc[0.75]-qnt.loc[0.25]\n",
        "iqr"
      ],
      "metadata": {
        "id": "yTcgVGtAi_6E"
      },
      "execution_count": null,
      "outputs": []
    },
    {
      "cell_type": "code",
      "source": [
        "lower = qnt.loc[0.25] - 1.5*iqr\n",
        "lower"
      ],
      "metadata": {
        "id": "FjQMTWJEjE9c"
      },
      "execution_count": null,
      "outputs": []
    },
    {
      "cell_type": "code",
      "source": [
        "upper = qnt.loc[0.75] + 1.5 * iqr\n",
        "upper"
      ],
      "metadata": {
        "id": "MTISqOEpjG1s"
      },
      "execution_count": null,
      "outputs": []
    },
    {
      "cell_type": "code",
      "source": [
        "sns.boxplot(df[\"Shell weight\"])"
      ],
      "metadata": {
        "id": "eNWG8y0HjIkd"
      },
      "execution_count": null,
      "outputs": []
    },
    {
      "cell_type": "code",
      "source": [
        "df[\"Shell weight\"]=np.where(df[\"Shell weight\"]>0.6,0.5,df[\"Shell weight\"])"
      ],
      "metadata": {
        "id": "-KCNR0gdjTwV"
      },
      "execution_count": null,
      "outputs": []
    },
    {
      "cell_type": "code",
      "source": [
        "sns.boxplot(df[\"Shell weight\"])"
      ],
      "metadata": {
        "id": "X8WHLpi4jX9T"
      },
      "execution_count": null,
      "outputs": []
    },
    {
      "cell_type": "code",
      "source": [
        "categorical_features"
      ],
      "metadata": {
        "id": "0efoCCmyjZfj"
      },
      "execution_count": null,
      "outputs": []
    },
    {
      "cell_type": "code",
      "source": [
        "df = pd.get_dummies(df)\n",
        "dummy_df = df\n"
      ],
      "metadata": {
        "id": "9GBUXgfvjcCr"
      },
      "execution_count": null,
      "outputs": []
    },
    {
      "cell_type": "code",
      "source": [
        "df"
      ],
      "metadata": {
        "id": "d4dksYOAjeNT"
      },
      "execution_count": null,
      "outputs": []
    },
    {
      "cell_type": "code",
      "source": [
        "x = df.drop(columns=[\"Rings\"])\n",
        "y = df[\"Rings\"]"
      ],
      "metadata": {
        "id": "D40dyJOMjfir"
      },
      "execution_count": null,
      "outputs": []
    },
    {
      "cell_type": "code",
      "source": [
        "x"
      ],
      "metadata": {
        "id": "2afAoTsjjhOD"
      },
      "execution_count": null,
      "outputs": []
    },
    {
      "cell_type": "code",
      "source": [
        "y"
      ],
      "metadata": {
        "id": "uE08HFfejic7"
      },
      "execution_count": null,
      "outputs": []
    },
    {
      "cell_type": "code",
      "source": [
        "names=x.columns\n",
        "names"
      ],
      "metadata": {
        "id": "0c9ku5LNjjmL"
      },
      "execution_count": null,
      "outputs": []
    },
    {
      "cell_type": "code",
      "source": [
        "from sklearn.preprocessing import scale\n",
        "X=scale(x)\n",
        "X"
      ],
      "metadata": {
        "id": "43qsxyjbjlhb"
      },
      "execution_count": null,
      "outputs": []
    },
    {
      "cell_type": "code",
      "source": [
        "x1 = pd.DataFrame(X,columns = names )\n",
        "x1"
      ],
      "metadata": {
        "id": "XZ7gkY2xjn5T"
      },
      "execution_count": null,
      "outputs": []
    },
    {
      "cell_type": "code",
      "source": [
        "from sklearn.model_selection import train_test_split"
      ],
      "metadata": {
        "id": "cBQX3I_WjpXz"
      },
      "execution_count": null,
      "outputs": []
    },
    {
      "cell_type": "code",
      "source": [
        "x_train,x_test,y_train,y_test=train_test_split(x,y,test_size=0.2,random_state=0)"
      ],
      "metadata": {
        "id": "Qh9wAYVqjrID"
      },
      "execution_count": null,
      "outputs": []
    },
    {
      "cell_type": "code",
      "source": [
        "from sklearn.tree import DecisionTreeClassifier"
      ],
      "metadata": {
        "id": "YlunrjTnjtpr"
      },
      "execution_count": null,
      "outputs": []
    },
    {
      "cell_type": "code",
      "source": [
        "model = DecisionTreeClassifier()\n",
        "model.fit(x_train,y_train)\n"
      ],
      "metadata": {
        "id": "gq7yzsxojv0L"
      },
      "execution_count": null,
      "outputs": []
    },
    {
      "cell_type": "code",
      "source": [
        "pred = model.predict(x_test)"
      ],
      "metadata": {
        "id": "VphGy3TyjyDD"
      },
      "execution_count": null,
      "outputs": []
    },
    {
      "cell_type": "code",
      "source": [
        "from sklearn.metrics import accuracy_score,precision_score,confusion_matrix"
      ],
      "metadata": {
        "id": "ztO1YsATj1qD"
      },
      "execution_count": null,
      "outputs": []
    },
    {
      "cell_type": "code",
      "source": [
        "print(\"accuracy_score:\",accuracy_score(y_test,pred))\n",
        "print(\"precision_score:\",precision_score(y_test,pred,average = \"macro\"))\n",
        "print(\"confusion_matrix:\\n\",confusion_matrix(y_test,pred))"
      ],
      "metadata": {
        "id": "Q2E9sdwPj4LT"
      },
      "execution_count": null,
      "outputs": []
    },
    {
      "cell_type": "code",
      "source": [],
      "metadata": {
        "id": "DEZpzW-Nj_oT"
      },
      "execution_count": null,
      "outputs": []
    }
  ]
}