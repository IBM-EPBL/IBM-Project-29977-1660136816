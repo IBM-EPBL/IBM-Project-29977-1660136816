{
  "nbformat": 4,
  "nbformat_minor": 0,
  "metadata": {
    "colab": {
      "private_outputs": true,
      "provenance": [],
      "collapsed_sections": []
    },
    "kernelspec": {
      "name": "python3",
      "display_name": "Python 3"
    },
    "language_info": {
      "name": "python"
    }
  },
  "cells": [
    {
      "cell_type": "code",
      "execution_count": null,
      "metadata": {
        "id": "oRJ5TEvXkrqI"
      },
      "outputs": [],
      "source": [
        "import pandas as pd\n",
        "import numpy as np\n",
        "import matplotlib.pyplot as plt\n",
        "import seaborn as sns"
      ]
    },
    {
      "cell_type": "code",
      "source": [
        "data = pd.read_csv(r\"Mall_Customers.csv\")"
      ],
      "metadata": {
        "id": "GTBvNeMDnR7v"
      },
      "execution_count": null,
      "outputs": []
    },
    {
      "cell_type": "code",
      "source": [
        "data.head();"
      ],
      "metadata": {
        "id": "z-DjlC6KnR8o"
      },
      "execution_count": null,
      "outputs": []
    },
    {
      "cell_type": "code",
      "source": [
        "plt.hist(data['Age'])"
      ],
      "metadata": {
        "id": "kLesvkz0nXhm"
      },
      "execution_count": null,
      "outputs": []
    },
    {
      "cell_type": "code",
      "source": [
        "plt.scatter(data['Gender'],data['Annual Income (k$)'])"
      ],
      "metadata": {
        "id": "n6JLVtzDnYwW"
      },
      "execution_count": null,
      "outputs": []
    },
    {
      "cell_type": "code",
      "source": [
        "pd.plotting.scatter_matrix(data.loc[:,\"Age\":\"Annual Income (k$)\"] , diagonal =\"kde\", figsize=(10,10))\n"
      ],
      "metadata": {
        "id": "Ced9qTrjndAl"
      },
      "execution_count": null,
      "outputs": []
    },
    {
      "cell_type": "code",
      "source": [
        "data.describe()"
      ],
      "metadata": {
        "id": "9PB2rNkOnggL"
      },
      "execution_count": null,
      "outputs": []
    },
    {
      "cell_type": "code",
      "source": [
        "data.describe().T"
      ],
      "metadata": {
        "id": "MaswjvtonmRq"
      },
      "execution_count": null,
      "outputs": []
    },
    {
      "cell_type": "code",
      "source": [
        "data.isna().sum()"
      ],
      "metadata": {
        "id": "yeWh7wvZnn9C"
      },
      "execution_count": null,
      "outputs": []
    },
    {
      "cell_type": "code",
      "source": [
        "fig,ax=plt.subplots(figsize=(25,5))\n",
        "\n",
        "plt.subplot(1, 5, 2)\n",
        "sns.boxplot(x=data['Age'])\n",
        "\n",
        "plt.subplot(1, 5, 3)\n",
        "sns.boxplot(x=data['Annual Income (k$)'])\n",
        "\n",
        "plt.subplot(1, 5, 4)\n",
        "sns.boxplot(x=data['Spending Score (1-100)'])\n",
        "\n",
        "plt.subplot(1, 5, 1)\n",
        "sns.boxplot(x=data['CustomerID'])"
      ],
      "metadata": {
        "id": "WNDCpV68npib"
      },
      "execution_count": null,
      "outputs": []
    },
    {
      "cell_type": "code",
      "source": [
        "quant=data.quantile(q=[0.25,0.75])\n",
        "quant"
      ],
      "metadata": {
        "id": "du6eU7KKnrjr"
      },
      "execution_count": null,
      "outputs": []
    },
    {
      "cell_type": "code",
      "source": [
        "quant.loc[0.75]"
      ],
      "metadata": {
        "id": "KEgor_T6nwFV"
      },
      "execution_count": null,
      "outputs": []
    },
    {
      "cell_type": "code",
      "source": [
        "quant.loc[0.25]"
      ],
      "metadata": {
        "id": "hN5RJMKRnxyd"
      },
      "execution_count": null,
      "outputs": []
    },
    {
      "cell_type": "code",
      "source": [
        "iqr=quant.loc[0.75]-quant.loc[0.25]\n",
        "iqr"
      ],
      "metadata": {
        "id": "c2sPJ4sgn0UF"
      },
      "execution_count": null,
      "outputs": []
    },
    {
      "cell_type": "code",
      "source": [
        "low=quant.loc[0.25]-(1.5 *iqr)\n",
        "low"
      ],
      "metadata": {
        "id": "JODjY3Lvn2gl"
      },
      "execution_count": null,
      "outputs": []
    },
    {
      "cell_type": "code",
      "source": [
        "up=quant.loc[0.75]+(1.5 *iqr)\n",
        "up\n"
      ],
      "metadata": {
        "id": "ByxkR4gTn40N"
      },
      "execution_count": null,
      "outputs": []
    },
    {
      "cell_type": "code",
      "source": [
        "data['Annual Income (k$)']= np.where(data['Annual Income (k$)']>132,60,data['Annual Income (k$)'])"
      ],
      "metadata": {
        "id": "7m60srRSn61l"
      },
      "execution_count": null,
      "outputs": []
    },
    {
      "cell_type": "code",
      "source": [
        "sns.boxplot(x=data['Annual Income (k$)'])"
      ],
      "metadata": {
        "id": "Al9KgENan9q9"
      },
      "execution_count": null,
      "outputs": []
    },
    {
      "cell_type": "code",
      "source": [
        "data.info()"
      ],
      "metadata": {
        "id": "0pGOO0r3oASl"
      },
      "execution_count": null,
      "outputs": []
    },
    {
      "cell_type": "code",
      "source": [
        "data['Gender'].unique()"
      ],
      "metadata": {
        "id": "ZFXKxyd-oFjt"
      },
      "execution_count": null,
      "outputs": []
    },
    {
      "cell_type": "code",
      "source": [
        "data['Gender'].replace({'Male':1,\"Female\":0},inplace=True)"
      ],
      "metadata": {
        "id": "e4vNlflgoHX1"
      },
      "execution_count": null,
      "outputs": []
    },
    {
      "cell_type": "code",
      "source": [
        "data"
      ],
      "metadata": {
        "id": "Ez2pE8V8oI-N"
      },
      "execution_count": null,
      "outputs": []
    },
    {
      "cell_type": "code",
      "source": [
        "from sklearn.preprocessing import MinMaxScaler\n",
        "sc=MinMaxScaler()"
      ],
      "metadata": {
        "id": "bGEQbhbJoJ1l"
      },
      "execution_count": null,
      "outputs": []
    },
    {
      "cell_type": "code",
      "source": [
        "df=sc.fit_transform(data.iloc[:,1:])"
      ],
      "metadata": {
        "id": "75euuqU_oLnt"
      },
      "execution_count": null,
      "outputs": []
    },
    {
      "cell_type": "code",
      "source": [
        "df"
      ],
      "metadata": {
        "id": "i-ZIP4nwoNQ9"
      },
      "execution_count": null,
      "outputs": []
    },
    {
      "cell_type": "code",
      "source": [
        "from sklearn.cluster import KMeans"
      ],
      "metadata": {
        "id": "f84ixxImoODl"
      },
      "execution_count": null,
      "outputs": []
    },
    {
      "cell_type": "code",
      "source": [
        "TWSS=[]\n",
        "k=list(range(2,9))\n",
        "\n",
        "for i in k:\n",
        "    kmeans=KMeans(n_clusters=i,init='k-means++')\n",
        "    kmeans.fit(data)\n",
        "    TWSS.append(kmeans.inertia_)"
      ],
      "metadata": {
        "id": "CWEB9eNAoRM1"
      },
      "execution_count": null,
      "outputs": []
    },
    {
      "cell_type": "code",
      "source": [
        "TWSS"
      ],
      "metadata": {
        "id": "5ZubtxjXoS40"
      },
      "execution_count": null,
      "outputs": []
    },
    {
      "cell_type": "code",
      "source": [
        "plt.plot(k,TWSS,'ro--')\n",
        "plt.xlabel('no of cluster')\n",
        "plt.ylabel('TWSS')"
      ],
      "metadata": {
        "id": "lcv2GOScoUql"
      },
      "execution_count": null,
      "outputs": []
    },
    {
      "cell_type": "code",
      "source": [
        "model=KMeans(n_clusters=4)\n",
        "\n",
        "model.fit(data)\n"
      ],
      "metadata": {
        "id": "fYSDdln9oWTV"
      },
      "execution_count": null,
      "outputs": []
    },
    {
      "cell_type": "code",
      "source": [
        "model.labels_"
      ],
      "metadata": {
        "id": "xYjgnqM9oYCN"
      },
      "execution_count": null,
      "outputs": []
    },
    {
      "cell_type": "code",
      "source": [
        "mb=pd.Series(model.labels_)"
      ],
      "metadata": {
        "id": "jno6hJWLoens"
      },
      "execution_count": null,
      "outputs": []
    },
    {
      "cell_type": "code",
      "source": [
        "data.head(3)"
      ],
      "metadata": {
        "id": "pfDwG209og0k"
      },
      "execution_count": null,
      "outputs": []
    },
    {
      "cell_type": "code",
      "source": [
        "data['clust']=mb\n"
      ],
      "metadata": {
        "id": "0HknuUHuokCs"
      },
      "execution_count": null,
      "outputs": []
    },
    {
      "cell_type": "code",
      "source": [
        "data.head()"
      ],
      "metadata": {
        "id": "e_Pziuk6olUM"
      },
      "execution_count": null,
      "outputs": []
    },
    {
      "cell_type": "code",
      "source": [
        "data.tail()"
      ],
      "metadata": {
        "id": "Yqja2NSSomq8"
      },
      "execution_count": null,
      "outputs": []
    },
    {
      "cell_type": "code",
      "source": [
        "y= data['clust']\n",
        "y"
      ],
      "metadata": {
        "id": "ztF-JBc1oozM"
      },
      "execution_count": null,
      "outputs": []
    },
    {
      "cell_type": "code",
      "source": [
        "x= data.drop(columns=['CustomerID','clust'],axis=1)\n",
        "x.head()"
      ],
      "metadata": {
        "id": "bDMxpK9VoqwM"
      },
      "execution_count": null,
      "outputs": []
    },
    {
      "cell_type": "code",
      "source": [
        "x.tail()"
      ],
      "metadata": {
        "id": "uRspKrWqosi0"
      },
      "execution_count": null,
      "outputs": []
    },
    {
      "cell_type": "code",
      "source": [
        "from sklearn.model_selection import train_test_split"
      ],
      "metadata": {
        "id": "C3V6jLpMoukk"
      },
      "execution_count": null,
      "outputs": []
    },
    {
      "cell_type": "code",
      "source": [
        "x_train,x_test,y_train,y_test=train_test_split(x,y,test_size=0.2,random_state=0)"
      ],
      "metadata": {
        "id": "P1ahio6tozTf"
      },
      "execution_count": null,
      "outputs": []
    },
    {
      "cell_type": "code",
      "source": [
        "from sklearn.ensemble import RandomForestClassifier"
      ],
      "metadata": {
        "id": "zNTtlGB2oz9s"
      },
      "execution_count": null,
      "outputs": []
    },
    {
      "cell_type": "code",
      "source": [
        "rf=RandomForestClassifier()"
      ],
      "metadata": {
        "id": "NKDXqrDTo2Uc"
      },
      "execution_count": null,
      "outputs": []
    },
    {
      "cell_type": "code",
      "source": [
        "rf.fit(x_train,y_train)"
      ],
      "metadata": {
        "id": "alcelA8jo4ME"
      },
      "execution_count": null,
      "outputs": []
    },
    {
      "cell_type": "code",
      "source": [
        "pred=rf.predict(x_test)"
      ],
      "metadata": {
        "id": "V9K1mMgco6sj"
      },
      "execution_count": null,
      "outputs": []
    },
    {
      "cell_type": "code",
      "source": [
        "from sklearn.metrics import accuracy_score\n",
        "accuracy_score(y_test,pred)"
      ],
      "metadata": {
        "id": "6YOaQ1zzo8ab"
      },
      "execution_count": null,
      "outputs": []
    },
    {
      "cell_type": "code",
      "source": [
        "from sklearn import metrics\n",
        "metrics.confusion_matrix(y_test,pred)"
      ],
      "metadata": {
        "id": "dYE1aWDto97j"
      },
      "execution_count": null,
      "outputs": []
    },
    {
      "cell_type": "code",
      "source": [],
      "metadata": {
        "id": "ySQzSIEMo_oz"
      },
      "execution_count": null,
      "outputs": []
    }
  ]
}